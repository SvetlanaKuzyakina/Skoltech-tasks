{
 "cells": [
  {
   "cell_type": "code",
   "execution_count": 2,
   "id": "2397f4a3",
   "metadata": {},
   "outputs": [],
   "source": [
    "import graphs\n",
    "import importlib\n",
    "\n",
    "importlib.reload(graphs)\n",
    "from graphs import *"
   ]
  },
  {
   "cell_type": "markdown",
   "id": "b58a9ca8",
   "metadata": {},
   "source": [
    "## Let`s steal some dataset with names and build our graphs based on it"
   ]
  },
  {
   "cell_type": "code",
   "execution_count": 3,
   "id": "6956c517",
   "metadata": {},
   "outputs": [],
   "source": [
    "df = pd.read_csv('Popular_Baby_Names.csv', sep=',')\n",
    "names = df[\"Child's First Name\"].tolist()[1000:2000]"
   ]
  },
  {
   "cell_type": "markdown",
   "id": "732f9ef6",
   "metadata": {},
   "source": [
    "### Most simple graphs with 1-2 edges"
   ]
  },
  {
   "cell_type": "code",
   "execution_count": 4,
   "id": "45738505",
   "metadata": {},
   "outputs": [
    {
     "name": "stdout",
     "output_type": "stream",
     "text": [
      "\n",
      "\n",
      " ___________________________________ GRAPH № 0 ___________________________________\n"
     ]
    },
    {
     "data": {
      "image/png": "[encoded data removed]",
      "text/plain": [
       "<Figure size 288x288 with 1 Axes>"
      ]
     },
     "metadata": {
      "needs_background": "light"
     },
     "output_type": "display_data"
    },
    {
     "name": "stdout",
     "output_type": "stream",
     "text": [
      "For pleasant picnic it`s recommended to invite: \n",
      "\n",
      "{('DAISY',), ('CYNTHIA',)}\n",
      "\n",
      "\n",
      " ___________________________________ GRAPH № 1 ___________________________________\n"
     ]
    },
    {
     "data": {
      "image/png": "[encoded data removed]",
      "text/plain": [
       "<Figure size 288x288 with 1 Axes>"
      ]
     },
     "metadata": {
      "needs_background": "light"
     },
     "output_type": "display_data"
    },
    {
     "name": "stdout",
     "output_type": "stream",
     "text": [
      "For pleasant picnic it`s recommended to invite: \n",
      "\n",
      "{('CYNTHIA',)}\n",
      "\n",
      "\n",
      " ___________________________________ GRAPH № 2 ___________________________________\n"
     ]
    },
    {
     "data": {
      "image/png": "[encoded data removed]",
      "text/plain": [
       "<Figure size 288x288 with 1 Axes>"
      ]
     },
     "metadata": {
      "needs_background": "light"
     },
     "output_type": "display_data"
    },
    {
     "name": "stdout",
     "output_type": "stream",
     "text": [
      "For pleasant picnic it`s recommended to invite: \n",
      "\n",
      "{('CYNTHIA', 'DAISY')}\n"
     ]
    }
   ],
   "source": [
    "for i in range(3):\n",
    "    print(\"\\n\\n ___________________________________ GRAPH № %s ___________________________________\" % i)\n",
    "    np.random.seed(i+5)\n",
    "    n_nodes = np.random.randint(1, 3)\n",
    "    g = generate_graph(n_nodes, node_names = names[:n_nodes])\n",
    "    g.draw(4)\n",
    "    print(\"For pleasant picnic it`s recommended to invite: \\n\")\n",
    "    print(g.picnic_company())"
   ]
  },
  {
   "cell_type": "markdown",
   "id": "1da407fc",
   "metadata": {},
   "source": [
    "### 3-edge graphs"
   ]
  },
  {
   "cell_type": "code",
   "execution_count": 5,
   "id": "d3af1f8a",
   "metadata": {},
   "outputs": [
    {
     "name": "stdout",
     "output_type": "stream",
     "text": [
      "\n",
      "\n",
      " ___________________________________ GRAPH № 0 ___________________________________\n"
     ]
    },
    {
     "data": {
      "image/png": "[encoded data removed]",
      "text/plain": [
       "<Figure size 288x288 with 1 Axes>"
      ]
     },
     "metadata": {
      "needs_background": "light"
     },
     "output_type": "display_data"
    },
    {
     "name": "stdout",
     "output_type": "stream",
     "text": [
      "For pleasant picnic it`s recommended to invite: \n",
      "\n",
      "{('DAISY', 'DIYA'), ('CYNTHIA', 'DAISY')}\n",
      "\n",
      "\n",
      " ___________________________________ GRAPH № 1 ___________________________________\n"
     ]
    },
    {
     "data": {
      "image/png": "[encoded data removed]",
      "text/plain": [
       "<Figure size 288x288 with 1 Axes>"
      ]
     },
     "metadata": {
      "needs_background": "light"
     },
     "output_type": "display_data"
    },
    {
     "name": "stdout",
     "output_type": "stream",
     "text": [
      "For pleasant picnic it`s recommended to invite: \n",
      "\n",
      "{('CYNTHIA', 'DIYA'), ('CYNTHIA', 'DAISY')}\n",
      "\n",
      "\n",
      " ___________________________________ GRAPH № 2 ___________________________________\n"
     ]
    },
    {
     "data": {
      "image/png": "[encoded data removed]",
      "text/plain": [
       "<Figure size 288x288 with 1 Axes>"
      ]
     },
     "metadata": {
      "needs_background": "light"
     },
     "output_type": "display_data"
    },
    {
     "name": "stdout",
     "output_type": "stream",
     "text": [
      "For pleasant picnic it`s recommended to invite: \n",
      "\n",
      "{('CYNTHIA', 'DIYA')}\n"
     ]
    }
   ],
   "source": [
    "for i in range(3):\n",
    "    print(\"\\n\\n ___________________________________ GRAPH № %s ___________________________________\" % i)\n",
    "    np.random.seed(i)\n",
    "    n_nodes = 3\n",
    "    g = generate_graph(n_nodes, node_names = names[:n_nodes])\n",
    "    g.draw(4)\n",
    "    print(\"For pleasant picnic it`s recommended to invite: \\n\")\n",
    "    print(g.picnic_company())"
   ]
  },
  {
   "cell_type": "markdown",
   "id": "1a351a46",
   "metadata": {},
   "source": [
    "### 4-5 - edged graphs"
   ]
  },
  {
   "cell_type": "code",
   "execution_count": 6,
   "id": "388ce2d9",
   "metadata": {},
   "outputs": [
    {
     "name": "stdout",
     "output_type": "stream",
     "text": [
      "\n",
      "\n",
      " ___________________________________ GRAPH № 0 ___________________________________\n"
     ]
    },
    {
     "data": {
      "image/png": "[encoded data removed]",
      "text/plain": [
       "<Figure size 288x288 with 1 Axes>"
      ]
     },
     "metadata": {
      "needs_background": "light"
     },
     "output_type": "display_data"
    },
    {
     "name": "stdout",
     "output_type": "stream",
     "text": [
      "For pleasant picnic it`s recommended to invite: \n",
      "\n",
      "{('CYNTHIA', 'DIYA', 'EILEEN'), ('CYNTHIA', 'DAISY', 'EILEEN')}\n",
      "\n",
      "\n",
      " ___________________________________ GRAPH № 1 ___________________________________\n"
     ]
    },
    {
     "data": {
      "image/png": "[encoded data removed]",
      "text/plain": [
       "<Figure size 288x288 with 1 Axes>"
      ]
     },
     "metadata": {
      "needs_background": "light"
     },
     "output_type": "display_data"
    },
    {
     "name": "stdout",
     "output_type": "stream",
     "text": [
      "For pleasant picnic it`s recommended to invite: \n",
      "\n",
      "{('CYNTHIA', 'DAISY', 'DIYA'), ('CYNTHIA', 'DAISY', 'EILEEN')}\n",
      "\n",
      "\n",
      " ___________________________________ GRAPH № 2 ___________________________________\n"
     ]
    },
    {
     "data": {
      "image/png": "[encoded data removed]",
      "text/plain": [
       "<Figure size 288x288 with 1 Axes>"
      ]
     },
     "metadata": {
      "needs_background": "light"
     },
     "output_type": "display_data"
    },
    {
     "name": "stdout",
     "output_type": "stream",
     "text": [
      "For pleasant picnic it`s recommended to invite: \n",
      "\n",
      "{('CYNTHIA', 'DAISY', 'EILEEN')}\n"
     ]
    }
   ],
   "source": [
    "for i in range(3):\n",
    "    print(\"\\n\\n ___________________________________ GRAPH № %s ___________________________________\" % i)\n",
    "    np.random.seed(i)\n",
    "    n_nodes = np.random.randint(4, 6)\n",
    "    g = generate_graph(n_nodes, node_names = names[:n_nodes])\n",
    "    g.draw(4)\n",
    "    print(\"For pleasant picnic it`s recommended to invite: \\n\")\n",
    "    print(g.picnic_company())"
   ]
  },
  {
   "cell_type": "code",
   "execution_count": null,
   "id": "53992c08",
   "metadata": {},
   "outputs": [],
   "source": []
  }
 ],
 "metadata": {
  "kernelspec": {
   "display_name": "Python 3 (ipykernel)",
   "language": "python",
   "name": "python3"
  },
  "language_info": {
   "codemirror_mode": {
    "name": "ipython",
    "version": 3
   },
   "file_extension": ".py",
   "mimetype": "text/x-python",
   "name": "python",
   "nbconvert_exporter": "python",
   "pygments_lexer": "ipython3",
   "version": "3.9.7"
  }
 },
 "nbformat": 4,
 "nbformat_minor": 5
}
